{
 "cells": [
  {
   "cell_type": "code",
   "execution_count": 1,
   "metadata": {},
   "outputs": [],
   "source": [
    "import numpy as np\n",
    "import pandas as pd\n",
    "\n",
    "import matplotlib.pyplot as plt\n",
    "import seaborn as sns\n",
    "\n",
    "import networkx as nx\n",
    "import ndex2\n",
    "\n",
    "from scipy.stats import ttest_ind, mannwhitneyu\n",
    "from statsmodels.sandbox.stats.multicomp import multipletests\n",
    "\n",
    "from tqdm.auto import tqdm\n",
    "\n",
    "import src\n",
    "\n",
    "%matplotlib inline"
   ]
  },
  {
   "cell_type": "markdown",
   "metadata": {},
   "source": [
    "# Load Data"
   ]
  },
  {
   "cell_type": "markdown",
   "metadata": {},
   "source": [
    "## BioPlex"
   ]
  },
  {
   "cell_type": "code",
   "execution_count": 2,
   "metadata": {},
   "outputs": [
    {
     "name": "stdout",
     "output_type": "stream",
     "text": [
      "Network contains 10961 nodes and 56553 edges\n"
     ]
    }
   ],
   "source": [
    "bioplex = src.io.load_cx_network('../Data/BioPlex2.0.cx',\n",
    "                                 network_mode='undirected',\n",
    "                                 print_stats=True)"
   ]
  },
  {
   "cell_type": "markdown",
   "metadata": {},
   "source": [
    "## RNA-seq caco-2"
   ]
  },
  {
   "cell_type": "code",
   "execution_count": 3,
   "metadata": {},
   "outputs": [],
   "source": [
    "rnaseq = pd.read_csv('../Data/Transcriptomics-Caco2_polyA_fpkm.tsv', sep='\\t')"
   ]
  },
  {
   "cell_type": "code",
   "execution_count": 4,
   "metadata": {},
   "outputs": [],
   "source": [
    "rnaseq['gene'] = rnaseq['gene_id||gene_name'].apply(lambda x: x.split('||')[1])\n",
    "rnaseq.set_index('gene', inplace=True)"
   ]
  },
  {
   "cell_type": "code",
   "execution_count": 5,
   "metadata": {},
   "outputs": [
    {
     "data": {
      "text/html": [
       "<div>\n",
       "<style scoped>\n",
       "    .dataframe tbody tr th:only-of-type {\n",
       "        vertical-align: middle;\n",
       "    }\n",
       "\n",
       "    .dataframe tbody tr th {\n",
       "        vertical-align: top;\n",
       "    }\n",
       "\n",
       "    .dataframe thead th {\n",
       "        text-align: right;\n",
       "    }\n",
       "</style>\n",
       "<table border=\"1\" class=\"dataframe\">\n",
       "  <thead>\n",
       "    <tr style=\"text-align: right;\">\n",
       "      <th></th>\n",
       "      <th>gene_id||gene_name</th>\n",
       "      <th>length</th>\n",
       "      <th>Caco2_polyA-S1-4h-A</th>\n",
       "      <th>Caco2_polyA-S1-4h-B</th>\n",
       "      <th>Caco2_polyA-S1-12h-A</th>\n",
       "      <th>Caco2_polyA-S1-12h-B</th>\n",
       "      <th>Caco2_polyA-S1-24h-A</th>\n",
       "      <th>Caco2_polyA-S1-24h-B</th>\n",
       "      <th>Caco2_polyA-S2-4h-A</th>\n",
       "      <th>Caco2_polyA-S2-4h-B</th>\n",
       "      <th>Caco2_polyA-S2-12h-A</th>\n",
       "      <th>Caco2_polyA-S2-12h-B</th>\n",
       "      <th>Caco2_polyA-S2-24h-A</th>\n",
       "      <th>Caco2_polyA-S2-24h-B</th>\n",
       "      <th>Caco2_polyA-mock-4h-A</th>\n",
       "      <th>Caco2_polyA-mock-4h-B</th>\n",
       "      <th>Caco2_polyA-mock-24h-A</th>\n",
       "      <th>Caco2_polyA-mock-24h-B</th>\n",
       "      <th>Caco2_polyA-untr-4h-A</th>\n",
       "      <th>Caco2_polyA-untr-4h-B</th>\n",
       "    </tr>\n",
       "    <tr>\n",
       "      <th>gene</th>\n",
       "      <th></th>\n",
       "      <th></th>\n",
       "      <th></th>\n",
       "      <th></th>\n",
       "      <th></th>\n",
       "      <th></th>\n",
       "      <th></th>\n",
       "      <th></th>\n",
       "      <th></th>\n",
       "      <th></th>\n",
       "      <th></th>\n",
       "      <th></th>\n",
       "      <th></th>\n",
       "      <th></th>\n",
       "      <th></th>\n",
       "      <th></th>\n",
       "      <th></th>\n",
       "      <th></th>\n",
       "      <th></th>\n",
       "      <th></th>\n",
       "    </tr>\n",
       "  </thead>\n",
       "  <tbody>\n",
       "    <tr>\n",
       "      <th>ETV5-AS1</th>\n",
       "      <td>ENSG00000234197.1||ETV5-AS1</td>\n",
       "      <td>560</td>\n",
       "      <td>0.000</td>\n",
       "      <td>0.000</td>\n",
       "      <td>0.000</td>\n",
       "      <td>0.000</td>\n",
       "      <td>0.000</td>\n",
       "      <td>0.000</td>\n",
       "      <td>0.000</td>\n",
       "      <td>0.000</td>\n",
       "      <td>0.000</td>\n",
       "      <td>0.000</td>\n",
       "      <td>0.000</td>\n",
       "      <td>0.000</td>\n",
       "      <td>0.000</td>\n",
       "      <td>0.000</td>\n",
       "      <td>0.000</td>\n",
       "      <td>0.000</td>\n",
       "      <td>0.000</td>\n",
       "      <td>0.000</td>\n",
       "    </tr>\n",
       "    <tr>\n",
       "      <th>LINC01299</th>\n",
       "      <td>ENSG00000254081.1||LINC01299</td>\n",
       "      <td>2634</td>\n",
       "      <td>0.000</td>\n",
       "      <td>0.000</td>\n",
       "      <td>0.000</td>\n",
       "      <td>0.000</td>\n",
       "      <td>0.000</td>\n",
       "      <td>0.000</td>\n",
       "      <td>0.000</td>\n",
       "      <td>0.036</td>\n",
       "      <td>0.000</td>\n",
       "      <td>0.000</td>\n",
       "      <td>0.115</td>\n",
       "      <td>0.000</td>\n",
       "      <td>0.000</td>\n",
       "      <td>0.000</td>\n",
       "      <td>0.000</td>\n",
       "      <td>0.000</td>\n",
       "      <td>0.000</td>\n",
       "      <td>0.042</td>\n",
       "    </tr>\n",
       "    <tr>\n",
       "      <th>MLLT3</th>\n",
       "      <td>ENSG00000171843.16||MLLT3</td>\n",
       "      <td>8100</td>\n",
       "      <td>2.984</td>\n",
       "      <td>3.047</td>\n",
       "      <td>3.390</td>\n",
       "      <td>3.193</td>\n",
       "      <td>4.044</td>\n",
       "      <td>3.989</td>\n",
       "      <td>2.847</td>\n",
       "      <td>2.893</td>\n",
       "      <td>2.865</td>\n",
       "      <td>2.823</td>\n",
       "      <td>3.829</td>\n",
       "      <td>3.711</td>\n",
       "      <td>3.315</td>\n",
       "      <td>3.052</td>\n",
       "      <td>3.130</td>\n",
       "      <td>3.220</td>\n",
       "      <td>3.622</td>\n",
       "      <td>3.931</td>\n",
       "    </tr>\n",
       "    <tr>\n",
       "      <th>SCGB3A2</th>\n",
       "      <td>ENSG00000164265.9||SCGB3A2</td>\n",
       "      <td>1075</td>\n",
       "      <td>0.000</td>\n",
       "      <td>0.000</td>\n",
       "      <td>0.000</td>\n",
       "      <td>0.000</td>\n",
       "      <td>0.000</td>\n",
       "      <td>0.000</td>\n",
       "      <td>0.000</td>\n",
       "      <td>0.000</td>\n",
       "      <td>0.000</td>\n",
       "      <td>0.000</td>\n",
       "      <td>0.000</td>\n",
       "      <td>0.000</td>\n",
       "      <td>0.000</td>\n",
       "      <td>0.000</td>\n",
       "      <td>0.000</td>\n",
       "      <td>0.052</td>\n",
       "      <td>0.000</td>\n",
       "      <td>0.000</td>\n",
       "    </tr>\n",
       "    <tr>\n",
       "      <th>SEPT10P1</th>\n",
       "      <td>ENSG00000253541.1||SEPT10P1</td>\n",
       "      <td>1162</td>\n",
       "      <td>0.847</td>\n",
       "      <td>1.082</td>\n",
       "      <td>1.796</td>\n",
       "      <td>1.252</td>\n",
       "      <td>0.000</td>\n",
       "      <td>1.272</td>\n",
       "      <td>1.475</td>\n",
       "      <td>1.551</td>\n",
       "      <td>1.106</td>\n",
       "      <td>1.265</td>\n",
       "      <td>1.043</td>\n",
       "      <td>0.900</td>\n",
       "      <td>0.999</td>\n",
       "      <td>1.002</td>\n",
       "      <td>0.965</td>\n",
       "      <td>1.202</td>\n",
       "      <td>1.207</td>\n",
       "      <td>0.864</td>\n",
       "    </tr>\n",
       "  </tbody>\n",
       "</table>\n",
       "</div>"
      ],
      "text/plain": [
       "                     gene_id||gene_name  length  Caco2_polyA-S1-4h-A  \\\n",
       "gene                                                                   \n",
       "ETV5-AS1    ENSG00000234197.1||ETV5-AS1     560                0.000   \n",
       "LINC01299  ENSG00000254081.1||LINC01299    2634                0.000   \n",
       "MLLT3         ENSG00000171843.16||MLLT3    8100                2.984   \n",
       "SCGB3A2      ENSG00000164265.9||SCGB3A2    1075                0.000   \n",
       "SEPT10P1    ENSG00000253541.1||SEPT10P1    1162                0.847   \n",
       "\n",
       "           Caco2_polyA-S1-4h-B  Caco2_polyA-S1-12h-A  Caco2_polyA-S1-12h-B  \\\n",
       "gene                                                                         \n",
       "ETV5-AS1                 0.000                 0.000                 0.000   \n",
       "LINC01299                0.000                 0.000                 0.000   \n",
       "MLLT3                    3.047                 3.390                 3.193   \n",
       "SCGB3A2                  0.000                 0.000                 0.000   \n",
       "SEPT10P1                 1.082                 1.796                 1.252   \n",
       "\n",
       "           Caco2_polyA-S1-24h-A  Caco2_polyA-S1-24h-B  Caco2_polyA-S2-4h-A  \\\n",
       "gene                                                                         \n",
       "ETV5-AS1                  0.000                 0.000                0.000   \n",
       "LINC01299                 0.000                 0.000                0.000   \n",
       "MLLT3                     4.044                 3.989                2.847   \n",
       "SCGB3A2                   0.000                 0.000                0.000   \n",
       "SEPT10P1                  0.000                 1.272                1.475   \n",
       "\n",
       "           Caco2_polyA-S2-4h-B  Caco2_polyA-S2-12h-A  Caco2_polyA-S2-12h-B  \\\n",
       "gene                                                                         \n",
       "ETV5-AS1                 0.000                 0.000                 0.000   \n",
       "LINC01299                0.036                 0.000                 0.000   \n",
       "MLLT3                    2.893                 2.865                 2.823   \n",
       "SCGB3A2                  0.000                 0.000                 0.000   \n",
       "SEPT10P1                 1.551                 1.106                 1.265   \n",
       "\n",
       "           Caco2_polyA-S2-24h-A  Caco2_polyA-S2-24h-B  Caco2_polyA-mock-4h-A  \\\n",
       "gene                                                                           \n",
       "ETV5-AS1                  0.000                 0.000                  0.000   \n",
       "LINC01299                 0.115                 0.000                  0.000   \n",
       "MLLT3                     3.829                 3.711                  3.315   \n",
       "SCGB3A2                   0.000                 0.000                  0.000   \n",
       "SEPT10P1                  1.043                 0.900                  0.999   \n",
       "\n",
       "           Caco2_polyA-mock-4h-B  Caco2_polyA-mock-24h-A  \\\n",
       "gene                                                       \n",
       "ETV5-AS1                   0.000                   0.000   \n",
       "LINC01299                  0.000                   0.000   \n",
       "MLLT3                      3.052                   3.130   \n",
       "SCGB3A2                    0.000                   0.000   \n",
       "SEPT10P1                   1.002                   0.965   \n",
       "\n",
       "           Caco2_polyA-mock-24h-B  Caco2_polyA-untr-4h-A  \\\n",
       "gene                                                       \n",
       "ETV5-AS1                    0.000                  0.000   \n",
       "LINC01299                   0.000                  0.000   \n",
       "MLLT3                       3.220                  3.622   \n",
       "SCGB3A2                     0.052                  0.000   \n",
       "SEPT10P1                    1.202                  1.207   \n",
       "\n",
       "           Caco2_polyA-untr-4h-B  \n",
       "gene                              \n",
       "ETV5-AS1                   0.000  \n",
       "LINC01299                  0.042  \n",
       "MLLT3                      3.931  \n",
       "SCGB3A2                    0.000  \n",
       "SEPT10P1                   0.864  "
      ]
     },
     "execution_count": 5,
     "metadata": {},
     "output_type": "execute_result"
    }
   ],
   "source": [
    "rnaseq.head()"
   ]
  },
  {
   "cell_type": "code",
   "execution_count": 6,
   "metadata": {},
   "outputs": [
    {
     "data": {
      "text/plain": [
       "(45057, 20)"
      ]
     },
     "execution_count": 6,
     "metadata": {},
     "output_type": "execute_result"
    }
   ],
   "source": [
    "rnaseq.shape"
   ]
  },
  {
   "cell_type": "markdown",
   "metadata": {},
   "source": [
    "## Proteomics caco-2"
   ]
  },
  {
   "cell_type": "code",
   "execution_count": 7,
   "metadata": {},
   "outputs": [],
   "source": [
    "prot = pd.read_excel('../Data/Proteomics-Nature.xlsx')"
   ]
  },
  {
   "cell_type": "code",
   "execution_count": 8,
   "metadata": {},
   "outputs": [
    {
     "data": {
      "text/html": [
       "<div>\n",
       "<style scoped>\n",
       "    .dataframe tbody tr th:only-of-type {\n",
       "        vertical-align: middle;\n",
       "    }\n",
       "\n",
       "    .dataframe tbody tr th {\n",
       "        vertical-align: top;\n",
       "    }\n",
       "\n",
       "    .dataframe thead th {\n",
       "        text-align: right;\n",
       "    }\n",
       "</style>\n",
       "<table border=\"1\" class=\"dataframe\">\n",
       "  <thead>\n",
       "    <tr style=\"text-align: right;\">\n",
       "      <th></th>\n",
       "      <th>Accession</th>\n",
       "      <th>Species Names01</th>\n",
       "      <th>Gene Symbol01</th>\n",
       "      <th>Control 2h</th>\n",
       "      <th>Control 2h_2</th>\n",
       "      <th>Control 2h_3</th>\n",
       "      <th>Control 6h_1</th>\n",
       "      <th>Control 6h_2</th>\n",
       "      <th>Control 6h_3</th>\n",
       "      <th>Control 10h_1</th>\n",
       "      <th>...</th>\n",
       "      <th>Virus 24h_2</th>\n",
       "      <th>Virus 24h_3</th>\n",
       "      <th>Ratio 2h</th>\n",
       "      <th>Ratio 6h</th>\n",
       "      <th>Ratio 10h</th>\n",
       "      <th>Ratio 24h</th>\n",
       "      <th>P value 2h</th>\n",
       "      <th>P value 6h</th>\n",
       "      <th>P value 10h</th>\n",
       "      <th>P value 24h</th>\n",
       "    </tr>\n",
       "  </thead>\n",
       "  <tbody>\n",
       "    <tr>\n",
       "      <th>0</th>\n",
       "      <td>P02771</td>\n",
       "      <td>Homo sapiens OX=9606</td>\n",
       "      <td>AFP</td>\n",
       "      <td>981.258045</td>\n",
       "      <td>1183.175939</td>\n",
       "      <td>1440.326216</td>\n",
       "      <td>1205.249514</td>\n",
       "      <td>1338.177985</td>\n",
       "      <td>1286.491071</td>\n",
       "      <td>925.301366</td>\n",
       "      <td>...</td>\n",
       "      <td>49.176430</td>\n",
       "      <td>74.536415</td>\n",
       "      <td>-0.236188</td>\n",
       "      <td>-0.327616</td>\n",
       "      <td>-0.136694</td>\n",
       "      <td>-4.489913</td>\n",
       "      <td>0.490451</td>\n",
       "      <td>0.061289</td>\n",
       "      <td>0.599956</td>\n",
       "      <td>0.000180</td>\n",
       "    </tr>\n",
       "    <tr>\n",
       "      <th>1</th>\n",
       "      <td>P07148</td>\n",
       "      <td>Homo sapiens OX=9606</td>\n",
       "      <td>FABP1</td>\n",
       "      <td>1305.009230</td>\n",
       "      <td>1280.049817</td>\n",
       "      <td>1210.800481</td>\n",
       "      <td>1154.277967</td>\n",
       "      <td>1100.749505</td>\n",
       "      <td>923.312640</td>\n",
       "      <td>773.390082</td>\n",
       "      <td>...</td>\n",
       "      <td>90.028324</td>\n",
       "      <td>0.000000</td>\n",
       "      <td>-0.177061</td>\n",
       "      <td>-0.347504</td>\n",
       "      <td>-0.140953</td>\n",
       "      <td>-3.286986</td>\n",
       "      <td>0.037763</td>\n",
       "      <td>0.058714</td>\n",
       "      <td>0.792982</td>\n",
       "      <td>0.000182</td>\n",
       "    </tr>\n",
       "    <tr>\n",
       "      <th>2</th>\n",
       "      <td>P09327</td>\n",
       "      <td>Homo sapiens OX=9606</td>\n",
       "      <td>VIL1</td>\n",
       "      <td>839.773511</td>\n",
       "      <td>1031.083693</td>\n",
       "      <td>972.479005</td>\n",
       "      <td>860.300797</td>\n",
       "      <td>988.012894</td>\n",
       "      <td>962.336146</td>\n",
       "      <td>753.439585</td>\n",
       "      <td>...</td>\n",
       "      <td>89.112956</td>\n",
       "      <td>73.822910</td>\n",
       "      <td>-0.150779</td>\n",
       "      <td>-0.279991</td>\n",
       "      <td>-0.645486</td>\n",
       "      <td>-3.444579</td>\n",
       "      <td>0.398441</td>\n",
       "      <td>0.052874</td>\n",
       "      <td>0.016658</td>\n",
       "      <td>0.000165</td>\n",
       "    </tr>\n",
       "    <tr>\n",
       "      <th>3</th>\n",
       "      <td>P05783</td>\n",
       "      <td>Homo sapiens OX=9606</td>\n",
       "      <td>KRT18</td>\n",
       "      <td>604.780284</td>\n",
       "      <td>727.433897</td>\n",
       "      <td>784.113305</td>\n",
       "      <td>1264.895045</td>\n",
       "      <td>1318.047640</td>\n",
       "      <td>1405.874444</td>\n",
       "      <td>1297.249528</td>\n",
       "      <td>...</td>\n",
       "      <td>377.705066</td>\n",
       "      <td>665.080284</td>\n",
       "      <td>-0.096411</td>\n",
       "      <td>-0.017061</td>\n",
       "      <td>-0.157926</td>\n",
       "      <td>-0.229857</td>\n",
       "      <td>0.603719</td>\n",
       "      <td>0.884344</td>\n",
       "      <td>0.328675</td>\n",
       "      <td>0.583561</td>\n",
       "    </tr>\n",
       "    <tr>\n",
       "      <th>4</th>\n",
       "      <td>Q9P2E9</td>\n",
       "      <td>Homo sapiens OX=9606</td>\n",
       "      <td>NaN</td>\n",
       "      <td>686.321978</td>\n",
       "      <td>636.582512</td>\n",
       "      <td>668.096982</td>\n",
       "      <td>828.087137</td>\n",
       "      <td>794.704113</td>\n",
       "      <td>671.987378</td>\n",
       "      <td>631.514053</td>\n",
       "      <td>...</td>\n",
       "      <td>103.232566</td>\n",
       "      <td>135.262875</td>\n",
       "      <td>-0.135448</td>\n",
       "      <td>-0.163304</td>\n",
       "      <td>-0.440900</td>\n",
       "      <td>-2.140370</td>\n",
       "      <td>0.092775</td>\n",
       "      <td>0.258608</td>\n",
       "      <td>0.032700</td>\n",
       "      <td>0.000020</td>\n",
       "    </tr>\n",
       "  </tbody>\n",
       "</table>\n",
       "<p>5 rows × 35 columns</p>\n",
       "</div>"
      ],
      "text/plain": [
       "  Accession       Species Names01 Gene Symbol01   Control 2h  Control 2h_2  \\\n",
       "0    P02771  Homo sapiens OX=9606           AFP   981.258045   1183.175939   \n",
       "1    P07148  Homo sapiens OX=9606         FABP1  1305.009230   1280.049817   \n",
       "2    P09327  Homo sapiens OX=9606          VIL1   839.773511   1031.083693   \n",
       "3    P05783  Homo sapiens OX=9606         KRT18   604.780284    727.433897   \n",
       "4    Q9P2E9  Homo sapiens OX=9606           NaN   686.321978    636.582512   \n",
       "\n",
       "   Control 2h_3  Control 6h_1  Control 6h_2  Control 6h_3  Control 10h_1   \\\n",
       "0   1440.326216   1205.249514   1338.177985   1286.491071      925.301366   \n",
       "1   1210.800481   1154.277967   1100.749505    923.312640      773.390082   \n",
       "2    972.479005    860.300797    988.012894    962.336146      753.439585   \n",
       "3    784.113305   1264.895045   1318.047640   1405.874444     1297.249528   \n",
       "4    668.096982    828.087137    794.704113    671.987378      631.514053   \n",
       "\n",
       "   ...  Virus 24h_2  Virus 24h_3  Ratio 2h  Ratio 6h  Ratio 10h   Ratio 24h  \\\n",
       "0  ...    49.176430    74.536415 -0.236188 -0.327616   -0.136694  -4.489913   \n",
       "1  ...    90.028324     0.000000 -0.177061 -0.347504   -0.140953  -3.286986   \n",
       "2  ...    89.112956    73.822910 -0.150779 -0.279991   -0.645486  -3.444579   \n",
       "3  ...   377.705066   665.080284 -0.096411 -0.017061   -0.157926  -0.229857   \n",
       "4  ...   103.232566   135.262875 -0.135448 -0.163304   -0.440900  -2.140370   \n",
       "\n",
       "   P value 2h  P value 6h  P value 10h  P value 24h  \n",
       "0    0.490451    0.061289     0.599956     0.000180  \n",
       "1    0.037763    0.058714     0.792982     0.000182  \n",
       "2    0.398441    0.052874     0.016658     0.000165  \n",
       "3    0.603719    0.884344     0.328675     0.583561  \n",
       "4    0.092775    0.258608     0.032700     0.000020  \n",
       "\n",
       "[5 rows x 35 columns]"
      ]
     },
     "execution_count": 8,
     "metadata": {},
     "output_type": "execute_result"
    }
   ],
   "source": [
    "prot.head()"
   ]
  },
  {
   "cell_type": "markdown",
   "metadata": {},
   "source": [
    "## Uniprot Mapper"
   ]
  },
  {
   "cell_type": "code",
   "execution_count": 9,
   "metadata": {},
   "outputs": [],
   "source": [
    "uniprot = pd.read_csv('../Data/Uniprot-Map.tsv', sep='\\t')"
   ]
  },
  {
   "cell_type": "code",
   "execution_count": 10,
   "metadata": {},
   "outputs": [],
   "source": [
    "mapper = dict(zip(uniprot['From'].values.tolist(), uniprot['To'].values.tolist()))"
   ]
  },
  {
   "cell_type": "code",
   "execution_count": 11,
   "metadata": {},
   "outputs": [],
   "source": [
    "def map_prot(name, mapper):\n",
    "    if name in list(mapper.keys()):\n",
    "        return mapper[name]\n",
    "    else:\n",
    "        return name"
   ]
  },
  {
   "cell_type": "code",
   "execution_count": 12,
   "metadata": {},
   "outputs": [
    {
     "name": "stdout",
     "output_type": "stream",
     "text": [
      "RRBP1\n",
      "Q9N2J8\n",
      "PRMT1\n",
      "SOD2\n",
      "PCK2\n",
      "Spike\n",
      "PCM1\n",
      "P0DTC8\n",
      "AUP1\n",
      "P0DTD2\n",
      "PON2\n",
      "HSPBP1\n",
      "N\n",
      "Orf7a\n",
      "NRDC\n",
      "PNN\n",
      "EPPK1\n",
      "AGRN\n",
      "SEC16A\n",
      "SRGAP2\n",
      "ATP2B1\n",
      "MTX1\n",
      "GRIPAP1\n",
      "AKAP9\n"
     ]
    }
   ],
   "source": [
    "for idx in prot.loc[prot['Gene Symbol01'].isna()]['Accession'].index:\n",
    "    try:\n",
    "        prot.at[idx, 'Gene Symbol01'] = map_prot(prot.loc[idx, 'Accession'], mapper)\n",
    "    except:\n",
    "        pass\n",
    "    print(prot.at[idx, 'Gene Symbol01'])"
   ]
  },
  {
   "cell_type": "markdown",
   "metadata": {},
   "source": [
    "# DE analysis"
   ]
  },
  {
   "cell_type": "code",
   "execution_count": 13,
   "metadata": {},
   "outputs": [
    {
     "data": {
      "text/plain": [
       "Index(['Accession', 'Species Names01', 'Gene Symbol01', 'Control 2h',\n",
       "       'Control 2h_2', 'Control 2h_3', 'Control 6h_1', 'Control 6h_2',\n",
       "       'Control 6h_3', 'Control 10h_1 ', 'Control 10h_2', 'Control 10h_3',\n",
       "       'Control 24h_1', 'Control 24h_2', 'Control 24h_3', 'Virus 2h_1',\n",
       "       'Virus 2h_2', 'Virus 2h_3', 'Virus 6h_1', 'Virus 6h_2', 'Virus 6h_3',\n",
       "       'Virus 10h_1', 'Virus 10h_2', 'Virus 10h_3', 'Virus 24h_1',\n",
       "       'Virus 24h_2', 'Virus 24h_3', 'Ratio 2h', 'Ratio 6h', 'Ratio 10h ',\n",
       "       'Ratio 24h', 'P value 2h', 'P value 6h', 'P value 10h', 'P value 24h'],\n",
       "      dtype='object')"
      ]
     },
     "execution_count": 13,
     "metadata": {},
     "output_type": "execute_result"
    }
   ],
   "source": [
    "prot.columns"
   ]
  },
  {
   "cell_type": "markdown",
   "metadata": {},
   "source": [
    "### Proteomics"
   ]
  },
  {
   "cell_type": "code",
   "execution_count": 14,
   "metadata": {},
   "outputs": [
    {
     "data": {
      "text/plain": [
       "<matplotlib.collections.PathCollection at 0x1069eb990>"
      ]
     },
     "execution_count": 14,
     "metadata": {},
     "output_type": "execute_result"
    },
    {
     "data": {
      "image/png": "[encoded data removed]",
      "text/plain": [
       "<Figure size 432x288 with 1 Axes>"
      ]
     },
     "metadata": {
      "needs_background": "light"
     },
     "output_type": "display_data"
    }
   ],
   "source": [
    "plt.scatter(prot[['Control 24h_1', 'Control 24h_2', 'Control 24h_3']].mean(axis=1).values,\n",
    "            np.sqrt(prot[['Control 24h_1', 'Control 24h_2', 'Control 24h_3']].var(axis=1).values))"
   ]
  },
  {
   "cell_type": "code",
   "execution_count": 15,
   "metadata": {},
   "outputs": [],
   "source": [
    "control_col = ['Control 24h_1', 'Control 24h_2', 'Control 24h_3']\n",
    "virus_col = ['Virus 24h_1', 'Virus 24h_2', 'Virus 24h_3']"
   ]
  },
  {
   "cell_type": "code",
   "execution_count": 16,
   "metadata": {},
   "outputs": [],
   "source": [
    "data = prot[['Gene Symbol01'] + control_col + virus_col]"
   ]
  },
  {
   "cell_type": "code",
   "execution_count": 17,
   "metadata": {},
   "outputs": [],
   "source": [
    "data.columns = ['Gene'] + control_col + virus_col\n",
    "data.set_index('Gene', inplace=True)"
   ]
  },
  {
   "cell_type": "code",
   "execution_count": 18,
   "metadata": {},
   "outputs": [
    {
     "name": "stderr",
     "output_type": "stream",
     "text": [
      "/Users/earmingol/opt/anaconda3/envs/networks/lib/python3.7/site-packages/numpy/core/fromnumeric.py:3584: RuntimeWarning: Degrees of freedom <= 0 for slice\n",
      "  **kwargs)\n",
      "/Users/earmingol/opt/anaconda3/envs/networks/lib/python3.7/site-packages/numpy/core/_methods.py:209: RuntimeWarning: invalid value encountered in double_scalars\n",
      "  ret = ret.dtype.type(ret / rcount)\n",
      "/Users/earmingol/opt/anaconda3/envs/networks/lib/python3.7/site-packages/ipykernel_launcher.py:9: SettingWithCopyWarning: \n",
      "A value is trying to be set on a copy of a slice from a DataFrame.\n",
      "Try using .loc[row_indexer,col_indexer] = value instead\n",
      "\n",
      "See the caveats in the documentation: https://pandas.pydata.org/pandas-docs/stable/user_guide/indexing.html#returning-a-view-versus-a-copy\n",
      "  if __name__ == '__main__':\n",
      "/Users/earmingol/opt/anaconda3/envs/networks/lib/python3.7/site-packages/ipykernel_launcher.py:11: SettingWithCopyWarning: \n",
      "A value is trying to be set on a copy of a slice from a DataFrame.\n",
      "Try using .loc[row_indexer,col_indexer] = value instead\n",
      "\n",
      "See the caveats in the documentation: https://pandas.pydata.org/pandas-docs/stable/user_guide/indexing.html#returning-a-view-versus-a-copy\n",
      "  # This is added back by InteractiveShellApp.init_path()\n"
     ]
    }
   ],
   "source": [
    "def test(x,y):\n",
    "    try:\n",
    "        return ttest_ind(x, y)[1]\n",
    "    except:\n",
    "        return 1.0\n",
    "\n",
    "\n",
    "data['Pval'] = data.apply(lambda row: test(row[control_col].dropna().values,\n",
    "                                           row[virus_col].dropna().values), axis=1)\n",
    "\n",
    "data['Pval'] = data['Pval'].fillna(1.0)"
   ]
  },
  {
   "cell_type": "code",
   "execution_count": 19,
   "metadata": {},
   "outputs": [
    {
     "name": "stderr",
     "output_type": "stream",
     "text": [
      "/Users/earmingol/opt/anaconda3/envs/networks/lib/python3.7/site-packages/ipykernel_launcher.py:1: SettingWithCopyWarning: \n",
      "A value is trying to be set on a copy of a slice from a DataFrame.\n",
      "Try using .loc[row_indexer,col_indexer] = value instead\n",
      "\n",
      "See the caveats in the documentation: https://pandas.pydata.org/pandas-docs/stable/user_guide/indexing.html#returning-a-view-versus-a-copy\n",
      "  \"\"\"Entry point for launching an IPython kernel.\n"
     ]
    }
   ],
   "source": [
    "data['FDR'] = multipletests(data['Pval'].values, alpha=0.1, method='fdr_bh')[1]"
   ]
  },
  {
   "cell_type": "code",
   "execution_count": 20,
   "metadata": {},
   "outputs": [
    {
     "data": {
      "text/html": [
       "<div>\n",
       "<style scoped>\n",
       "    .dataframe tbody tr th:only-of-type {\n",
       "        vertical-align: middle;\n",
       "    }\n",
       "\n",
       "    .dataframe tbody tr th {\n",
       "        vertical-align: top;\n",
       "    }\n",
       "\n",
       "    .dataframe thead th {\n",
       "        text-align: right;\n",
       "    }\n",
       "</style>\n",
       "<table border=\"1\" class=\"dataframe\">\n",
       "  <thead>\n",
       "    <tr style=\"text-align: right;\">\n",
       "      <th></th>\n",
       "      <th>Control 24h_1</th>\n",
       "      <th>Control 24h_2</th>\n",
       "      <th>Control 24h_3</th>\n",
       "      <th>Virus 24h_1</th>\n",
       "      <th>Virus 24h_2</th>\n",
       "      <th>Virus 24h_3</th>\n",
       "      <th>Pval</th>\n",
       "      <th>FDR</th>\n",
       "    </tr>\n",
       "    <tr>\n",
       "      <th>Gene</th>\n",
       "      <th></th>\n",
       "      <th></th>\n",
       "      <th></th>\n",
       "      <th></th>\n",
       "      <th></th>\n",
       "      <th></th>\n",
       "      <th></th>\n",
       "      <th></th>\n",
       "    </tr>\n",
       "  </thead>\n",
       "  <tbody>\n",
       "    <tr>\n",
       "      <th>AFP</th>\n",
       "      <td>844.290854</td>\n",
       "      <td>886.532318</td>\n",
       "      <td>1048.975414</td>\n",
       "      <td>0.000000</td>\n",
       "      <td>49.176430</td>\n",
       "      <td>74.536415</td>\n",
       "      <td>0.000180</td>\n",
       "      <td>0.015966</td>\n",
       "    </tr>\n",
       "    <tr>\n",
       "      <th>FABP1</th>\n",
       "      <td>938.899082</td>\n",
       "      <td>886.075222</td>\n",
       "      <td>842.460815</td>\n",
       "      <td>183.254575</td>\n",
       "      <td>90.028324</td>\n",
       "      <td>0.000000</td>\n",
       "      <td>0.000182</td>\n",
       "      <td>0.015966</td>\n",
       "    </tr>\n",
       "    <tr>\n",
       "      <th>VIL1</th>\n",
       "      <td>802.704246</td>\n",
       "      <td>1003.939755</td>\n",
       "      <td>957.793517</td>\n",
       "      <td>90.977274</td>\n",
       "      <td>89.112956</td>\n",
       "      <td>73.822910</td>\n",
       "      <td>0.000165</td>\n",
       "      <td>0.015966</td>\n",
       "    </tr>\n",
       "    <tr>\n",
       "      <th>RRBP1</th>\n",
       "      <td>594.334880</td>\n",
       "      <td>561.067395</td>\n",
       "      <td>550.510551</td>\n",
       "      <td>148.442462</td>\n",
       "      <td>103.232566</td>\n",
       "      <td>135.262875</td>\n",
       "      <td>0.000020</td>\n",
       "      <td>0.006124</td>\n",
       "    </tr>\n",
       "    <tr>\n",
       "      <th>ANXA4</th>\n",
       "      <td>1346.827328</td>\n",
       "      <td>1261.916261</td>\n",
       "      <td>1161.811392</td>\n",
       "      <td>164.152240</td>\n",
       "      <td>182.159981</td>\n",
       "      <td>328.391077</td>\n",
       "      <td>0.000158</td>\n",
       "      <td>0.015966</td>\n",
       "    </tr>\n",
       "    <tr>\n",
       "      <th>...</th>\n",
       "      <td>...</td>\n",
       "      <td>...</td>\n",
       "      <td>...</td>\n",
       "      <td>...</td>\n",
       "      <td>...</td>\n",
       "      <td>...</td>\n",
       "      <td>...</td>\n",
       "      <td>...</td>\n",
       "    </tr>\n",
       "    <tr>\n",
       "      <th>KRT17</th>\n",
       "      <td>0.000000</td>\n",
       "      <td>0.000000</td>\n",
       "      <td>0.000000</td>\n",
       "      <td>301.512643</td>\n",
       "      <td>342.050333</td>\n",
       "      <td>425.077478</td>\n",
       "      <td>0.000609</td>\n",
       "      <td>0.031850</td>\n",
       "    </tr>\n",
       "    <tr>\n",
       "      <th>CCDC47</th>\n",
       "      <td>38.171732</td>\n",
       "      <td>17.010446</td>\n",
       "      <td>0.000000</td>\n",
       "      <td>136.833140</td>\n",
       "      <td>113.657475</td>\n",
       "      <td>107.463249</td>\n",
       "      <td>0.002074</td>\n",
       "      <td>0.072174</td>\n",
       "    </tr>\n",
       "    <tr>\n",
       "      <th>ATP5A1</th>\n",
       "      <td>17.235176</td>\n",
       "      <td>0.000000</td>\n",
       "      <td>3.024276</td>\n",
       "      <td>59.778030</td>\n",
       "      <td>64.247268</td>\n",
       "      <td>62.616166</td>\n",
       "      <td>0.000533</td>\n",
       "      <td>0.030019</td>\n",
       "    </tr>\n",
       "    <tr>\n",
       "      <th>YARS</th>\n",
       "      <td>14.693030</td>\n",
       "      <td>5.911778</td>\n",
       "      <td>0.000000</td>\n",
       "      <td>40.535904</td>\n",
       "      <td>50.298339</td>\n",
       "      <td>47.507030</td>\n",
       "      <td>0.001606</td>\n",
       "      <td>0.058927</td>\n",
       "    </tr>\n",
       "    <tr>\n",
       "      <th>KIF11</th>\n",
       "      <td>6.294225</td>\n",
       "      <td>5.520877</td>\n",
       "      <td>9.033763</td>\n",
       "      <td>0.000000</td>\n",
       "      <td>0.000000</td>\n",
       "      <td>0.000000</td>\n",
       "      <td>0.002855</td>\n",
       "      <td>0.087108</td>\n",
       "    </tr>\n",
       "  </tbody>\n",
       "</table>\n",
       "<p>97 rows × 8 columns</p>\n",
       "</div>"
      ],
      "text/plain": [
       "        Control 24h_1  Control 24h_2  Control 24h_3  Virus 24h_1  Virus 24h_2  \\\n",
       "Gene                                                                            \n",
       "AFP        844.290854     886.532318    1048.975414     0.000000    49.176430   \n",
       "FABP1      938.899082     886.075222     842.460815   183.254575    90.028324   \n",
       "VIL1       802.704246    1003.939755     957.793517    90.977274    89.112956   \n",
       "RRBP1      594.334880     561.067395     550.510551   148.442462   103.232566   \n",
       "ANXA4     1346.827328    1261.916261    1161.811392   164.152240   182.159981   \n",
       "...               ...            ...            ...          ...          ...   \n",
       "KRT17        0.000000       0.000000       0.000000   301.512643   342.050333   \n",
       "CCDC47      38.171732      17.010446       0.000000   136.833140   113.657475   \n",
       "ATP5A1      17.235176       0.000000       3.024276    59.778030    64.247268   \n",
       "YARS        14.693030       5.911778       0.000000    40.535904    50.298339   \n",
       "KIF11        6.294225       5.520877       9.033763     0.000000     0.000000   \n",
       "\n",
       "        Virus 24h_3      Pval       FDR  \n",
       "Gene                                     \n",
       "AFP       74.536415  0.000180  0.015966  \n",
       "FABP1      0.000000  0.000182  0.015966  \n",
       "VIL1      73.822910  0.000165  0.015966  \n",
       "RRBP1    135.262875  0.000020  0.006124  \n",
       "ANXA4    328.391077  0.000158  0.015966  \n",
       "...             ...       ...       ...  \n",
       "KRT17    425.077478  0.000609  0.031850  \n",
       "CCDC47   107.463249  0.002074  0.072174  \n",
       "ATP5A1    62.616166  0.000533  0.030019  \n",
       "YARS      47.507030  0.001606  0.058927  \n",
       "KIF11      0.000000  0.002855  0.087108  \n",
       "\n",
       "[97 rows x 8 columns]"
      ]
     },
     "execution_count": 20,
     "metadata": {},
     "output_type": "execute_result"
    }
   ],
   "source": [
    "data.loc[data['FDR'] < 0.1]"
   ]
  },
  {
   "cell_type": "code",
   "execution_count": 21,
   "metadata": {},
   "outputs": [],
   "source": [
    "def fold_change(x, y, fdr, min_val=900, alpha=0.05):\n",
    "    if fdr >= alpha:\n",
    "        return 1.0\n",
    "    else:\n",
    "        if x == np.nan:\n",
    "            x = 0.\n",
    "        if y == np.nan:\n",
    "            y = 0.\n",
    "\n",
    "        if y != 0:\n",
    "            return x / y\n",
    "        else:\n",
    "            if x != 0:\n",
    "                return np.min([min_val, x])\n",
    "            else:\n",
    "                return 1.0"
   ]
  },
  {
   "cell_type": "code",
   "execution_count": 22,
   "metadata": {},
   "outputs": [
    {
     "name": "stderr",
     "output_type": "stream",
     "text": [
      "/Users/earmingol/opt/anaconda3/envs/networks/lib/python3.7/site-packages/ipykernel_launcher.py:5: SettingWithCopyWarning: \n",
      "A value is trying to be set on a copy of a slice from a DataFrame.\n",
      "Try using .loc[row_indexer,col_indexer] = value instead\n",
      "\n",
      "See the caveats in the documentation: https://pandas.pydata.org/pandas-docs/stable/user_guide/indexing.html#returning-a-view-versus-a-copy\n",
      "  \"\"\"\n"
     ]
    }
   ],
   "source": [
    "data['FC'] = data.apply(lambda row: fold_change(np.nanmean(row[virus_col]),\n",
    "                                                np.nanmean(row[control_col]),\n",
    "                                                row['FDR'],\n",
    "                                                alpha=0.1\n",
    "                                               ), axis=1)"
   ]
  },
  {
   "cell_type": "code",
   "execution_count": 23,
   "metadata": {},
   "outputs": [
    {
     "name": "stderr",
     "output_type": "stream",
     "text": [
      "/Users/earmingol/opt/anaconda3/envs/networks/lib/python3.7/site-packages/ipykernel_launcher.py:1: SettingWithCopyWarning: \n",
      "A value is trying to be set on a copy of a slice from a DataFrame.\n",
      "Try using .loc[row_indexer,col_indexer] = value instead\n",
      "\n",
      "See the caveats in the documentation: https://pandas.pydata.org/pandas-docs/stable/user_guide/indexing.html#returning-a-view-versus-a-copy\n",
      "  \"\"\"Entry point for launching an IPython kernel.\n"
     ]
    }
   ],
   "source": [
    "data['FC'] = data['FC'].fillna(1.0)"
   ]
  },
  {
   "cell_type": "code",
   "execution_count": 24,
   "metadata": {},
   "outputs": [
    {
     "data": {
      "text/plain": [
       "1.0"
      ]
     },
     "execution_count": 24,
     "metadata": {},
     "output_type": "execute_result"
    }
   ],
   "source": [
    "np.median(data['FC'].values)"
   ]
  },
  {
   "cell_type": "code",
   "execution_count": 25,
   "metadata": {},
   "outputs": [
    {
     "data": {
      "text/plain": [
       "2715"
      ]
     },
     "execution_count": 25,
     "metadata": {},
     "output_type": "execute_result"
    }
   ],
   "source": [
    "len(data)"
   ]
  },
  {
   "cell_type": "code",
   "execution_count": 26,
   "metadata": {},
   "outputs": [
    {
     "data": {
      "text/plain": [
       "Index(['ENO1', 'KRT17', 'CEBPZ', 'AKAP12', 'GDI1', 'PRDX6', 'ATP5A1', 'YARS',\n",
       "       'CCDC47', 'PPIC', 'COX5B', 'C16orf62', 'MYADM', 'PCYOX1',\n",
       "       'APOA1BP; NAXE', 'CHMP1B', 'CAT', 'GNPDA1', 'VPS26A', 'MDH2', 'LGALS3',\n",
       "       'MYO1D', 'CHMP2B', 'DSP', 'RPL29', 'S100A10', 'ACAA2', 'UBL5',\n",
       "       'ATP6V1G1', 'SEC61B', 'TSPAN8', 'RRBP1', 'CTSA', 'RPL35', 'NDUFA4',\n",
       "       'IDH1', 'CTSB', 'CTSD', 'JUP', 'H3F3A; H3F3AP4; H3F3B', 'ANXA4',\n",
       "       'HIST1H1E', 'HIST1H1C', 'H1F0', 'ASAH1', 'DPP4', 'SLC9A3R1', 'MUC13',\n",
       "       'TMBIM6', 'IGHV3-21', 'CDH17', 'PITRM1', 'FABP1', 'NDUFB3', 'SEPT9',\n",
       "       'VIL1', 'SYAP1', 'CIRBP', 'SERPINA1', 'CYP51A1', 'ALDH1A1', 'APOA2',\n",
       "       'TECR', 'OAT', 'AFP', 'DHCR7', 'EPCAM', 'TTR', 'APOE', 'TMCO1',\n",
       "       'ABHD10', 'NELFCD; TH1L', 'UBE2C', 'RPE', 'OSGEP', 'RRP9', 'NOL7',\n",
       "       'EMC1', 'MRPL14', 'KPNA2', 'VPS35', 'UBE2Z', 'CHERP', 'EIF1', 'TSPYL1',\n",
       "       'CTNNA1', 'APOA1', 'CUL3', 'UQCR10', 'DYNLRB1', 'PSMD4', 'SLC39A14',\n",
       "       'NDUFAF7', 'SCO2', 'PPL', 'EHD1', 'KIF11'],\n",
       "      dtype='object', name='Gene')"
      ]
     },
     "execution_count": 26,
     "metadata": {},
     "output_type": "execute_result"
    }
   ],
   "source": [
    "data.loc[data['FC'] != 1.0]['FC'].sort_values(ascending=False).index"
   ]
  },
  {
   "cell_type": "code",
   "execution_count": 27,
   "metadata": {},
   "outputs": [],
   "source": [
    "personalization = dict()\n",
    "\n",
    "for idx, row in data.iterrows():\n",
    "    for i in idx.split('; '):\n",
    "        personalization[i] = row['FC']"
   ]
  },
  {
   "cell_type": "code",
   "execution_count": 28,
   "metadata": {},
   "outputs": [
    {
     "data": {
      "text/plain": [
       "2844"
      ]
     },
     "execution_count": 28,
     "metadata": {},
     "output_type": "execute_result"
    }
   ],
   "source": [
    "len(personalization)"
   ]
  },
  {
   "cell_type": "code",
   "execution_count": 29,
   "metadata": {},
   "outputs": [
    {
     "name": "stdout",
     "output_type": "stream",
     "text": [
      "../Outputs/Proteomics-Personalization.pkl was correctly saved.\n"
     ]
    }
   ],
   "source": [
    "src.io.export_variable_with_pickle(personalization, '../Outputs/Proteomics-Personalization.pkl')"
   ]
  },
  {
   "cell_type": "code",
   "execution_count": 30,
   "metadata": {},
   "outputs": [],
   "source": [
    "perso = src.io.load_variable_with_pickle('../Outputs/Proteomics-Personalization.pkl')"
   ]
  },
  {
   "cell_type": "code",
   "execution_count": 31,
   "metadata": {},
   "outputs": [
    {
     "data": {
      "text/plain": [
       "2844"
      ]
     },
     "execution_count": 31,
     "metadata": {},
     "output_type": "execute_result"
    }
   ],
   "source": [
    "len(perso)"
   ]
  },
  {
   "cell_type": "markdown",
   "metadata": {},
   "source": [
    "## Transcriptomics"
   ]
  },
  {
   "cell_type": "code",
   "execution_count": 32,
   "metadata": {},
   "outputs": [
    {
     "data": {
      "text/plain": [
       "Index(['gene_id||gene_name', 'length', 'Caco2_polyA-S1-4h-A',\n",
       "       'Caco2_polyA-S1-4h-B', 'Caco2_polyA-S1-12h-A', 'Caco2_polyA-S1-12h-B',\n",
       "       'Caco2_polyA-S1-24h-A', 'Caco2_polyA-S1-24h-B', 'Caco2_polyA-S2-4h-A',\n",
       "       'Caco2_polyA-S2-4h-B', 'Caco2_polyA-S2-12h-A', 'Caco2_polyA-S2-12h-B',\n",
       "       'Caco2_polyA-S2-24h-A', 'Caco2_polyA-S2-24h-B', 'Caco2_polyA-mock-4h-A',\n",
       "       'Caco2_polyA-mock-4h-B', 'Caco2_polyA-mock-24h-A',\n",
       "       'Caco2_polyA-mock-24h-B', 'Caco2_polyA-untr-4h-A',\n",
       "       'Caco2_polyA-untr-4h-B'],\n",
       "      dtype='object')"
      ]
     },
     "execution_count": 32,
     "metadata": {},
     "output_type": "execute_result"
    }
   ],
   "source": [
    "rnaseq.columns"
   ]
  },
  {
   "cell_type": "code",
   "execution_count": 33,
   "metadata": {},
   "outputs": [],
   "source": [
    "rna_control = ['Caco2_polyA-untr-4h-A', 'Caco2_polyA-untr-4h-B']"
   ]
  },
  {
   "cell_type": "code",
   "execution_count": 34,
   "metadata": {},
   "outputs": [],
   "source": [
    "rna_virus = ['Caco2_polyA-S1-24h-A', 'Caco2_polyA-S1-24h-B', 'Caco2_polyA-S2-24h-A', 'Caco2_polyA-S2-24h-B',]"
   ]
  },
  {
   "cell_type": "code",
   "execution_count": 35,
   "metadata": {
    "scrolled": false
   },
   "outputs": [],
   "source": [
    "rna_in_bioplex = []\n",
    "for idx in rnaseq.index:\n",
    "    if idx in bioplex.nodes:\n",
    "        rna_in_bioplex.append(idx)"
   ]
  },
  {
   "cell_type": "code",
   "execution_count": 36,
   "metadata": {},
   "outputs": [
    {
     "data": {
      "text/plain": [
       "9934"
      ]
     },
     "execution_count": 36,
     "metadata": {},
     "output_type": "execute_result"
    }
   ],
   "source": [
    "len(rna_in_bioplex)"
   ]
  },
  {
   "cell_type": "code",
   "execution_count": 37,
   "metadata": {},
   "outputs": [],
   "source": [
    "rna_data = rnaseq[rna_control + rna_virus]"
   ]
  },
  {
   "cell_type": "code",
   "execution_count": 38,
   "metadata": {},
   "outputs": [
    {
     "name": "stderr",
     "output_type": "stream",
     "text": [
      "/Users/earmingol/opt/anaconda3/envs/networks/lib/python3.7/site-packages/ipykernel_launcher.py:2: SettingWithCopyWarning: \n",
      "A value is trying to be set on a copy of a slice from a DataFrame.\n",
      "Try using .loc[row_indexer,col_indexer] = value instead\n",
      "\n",
      "See the caveats in the documentation: https://pandas.pydata.org/pandas-docs/stable/user_guide/indexing.html#returning-a-view-versus-a-copy\n",
      "  \n",
      "/Users/earmingol/opt/anaconda3/envs/networks/lib/python3.7/site-packages/ipykernel_launcher.py:4: SettingWithCopyWarning: \n",
      "A value is trying to be set on a copy of a slice from a DataFrame.\n",
      "Try using .loc[row_indexer,col_indexer] = value instead\n",
      "\n",
      "See the caveats in the documentation: https://pandas.pydata.org/pandas-docs/stable/user_guide/indexing.html#returning-a-view-versus-a-copy\n",
      "  after removing the cwd from sys.path.\n"
     ]
    }
   ],
   "source": [
    "rna_data['Pval'] = rna_data.apply(lambda row: test(np.log2(row[rna_control].dropna().values + 1.),\n",
    "                                                   np.log2(row[rna_virus].dropna().values + 1.)), axis=1)\n",
    "\n",
    "rna_data['Pval'] = rna_data['Pval'].fillna(1.0)"
   ]
  },
  {
   "cell_type": "code",
   "execution_count": 39,
   "metadata": {},
   "outputs": [
    {
     "name": "stderr",
     "output_type": "stream",
     "text": [
      "/Users/earmingol/opt/anaconda3/envs/networks/lib/python3.7/site-packages/ipykernel_launcher.py:1: SettingWithCopyWarning: \n",
      "A value is trying to be set on a copy of a slice from a DataFrame.\n",
      "Try using .loc[row_indexer,col_indexer] = value instead\n",
      "\n",
      "See the caveats in the documentation: https://pandas.pydata.org/pandas-docs/stable/user_guide/indexing.html#returning-a-view-versus-a-copy\n",
      "  \"\"\"Entry point for launching an IPython kernel.\n"
     ]
    }
   ],
   "source": [
    "rna_data['FDR'] = multipletests(rna_data['Pval'].values, alpha=0.1, method='fdr_bh')[1]"
   ]
  },
  {
   "cell_type": "code",
   "execution_count": 40,
   "metadata": {},
   "outputs": [
    {
     "name": "stderr",
     "output_type": "stream",
     "text": [
      "/Users/earmingol/opt/anaconda3/envs/networks/lib/python3.7/site-packages/ipykernel_launcher.py:5: SettingWithCopyWarning: \n",
      "A value is trying to be set on a copy of a slice from a DataFrame.\n",
      "Try using .loc[row_indexer,col_indexer] = value instead\n",
      "\n",
      "See the caveats in the documentation: https://pandas.pydata.org/pandas-docs/stable/user_guide/indexing.html#returning-a-view-versus-a-copy\n",
      "  \"\"\"\n"
     ]
    }
   ],
   "source": [
    "rna_data['FC'] = rna_data.apply(lambda row: fold_change(np.nanmean(row[rna_virus]),\n",
    "                                                        np.nanmean(row[rna_control]),\n",
    "                                                        row['FDR'],\n",
    "                                                        alpha=0.1\n",
    "                                                        ), axis=1)"
   ]
  },
  {
   "cell_type": "code",
   "execution_count": 41,
   "metadata": {},
   "outputs": [
    {
     "data": {
      "text/plain": [
       "gene\n",
       "KRT6A          133.958824\n",
       "ALLC            32.782609\n",
       "MAP3K20-AS1     29.297297\n",
       "IL1RAPL1        17.966667\n",
       "HSPD1P10        17.515152\n",
       "                  ...    \n",
       "IGBP1-AS2        0.000000\n",
       "AC007435.1       0.000000\n",
       "MIR4730          0.000000\n",
       "PSCA             0.000000\n",
       "RF00017          0.000000\n",
       "Name: FC, Length: 45057, dtype: float64"
      ]
     },
     "execution_count": 41,
     "metadata": {},
     "output_type": "execute_result"
    }
   ],
   "source": [
    "rna_data['FC'].sort_values(ascending=False)"
   ]
  },
  {
   "cell_type": "code",
   "execution_count": 42,
   "metadata": {},
   "outputs": [
    {
     "data": {
      "text/plain": [
       "gene\n",
       "KRT6A          133.958824\n",
       "ALLC            32.782609\n",
       "MAP3K20-AS1     29.297297\n",
       "IL1RAPL1        17.966667\n",
       "HSPD1P10        17.515152\n",
       "RPL3L           16.738095\n",
       "AF287957.1      15.500000\n",
       "HIST2H2BF       15.185714\n",
       "LINC00431       13.459184\n",
       "IRGM            12.976190\n",
       "TNS4            11.949561\n",
       "SERPINE1        11.690308\n",
       "ELK3            10.389535\n",
       "HIST1H2AL        9.103093\n",
       "MYH16            8.760116\n",
       "PLA2G4D          8.420455\n",
       "TRPM2            8.233333\n",
       "ETV7             8.191244\n",
       "HIST1H4H         8.009170\n",
       "HIST1H2BG        7.613946\n",
       "Name: FC, dtype: float64"
      ]
     },
     "execution_count": 42,
     "metadata": {},
     "output_type": "execute_result"
    }
   ],
   "source": [
    "rna_data.loc[rna_data['FC'] > 1.0]['FC'].sort_values(ascending=False).head(20)"
   ]
  },
  {
   "cell_type": "code",
   "execution_count": 43,
   "metadata": {},
   "outputs": [],
   "source": [
    "rna_personalization = dict()\n",
    "\n",
    "for idx in rna_data.index:\n",
    "    if idx in bioplex.nodes:\n",
    "        result = rna_data.loc[idx, 'FC']\n",
    "        if isinstance(result, np.float64):\n",
    "            rna_personalization[idx] = result\n",
    "        else:\n",
    "            rna_personalization[idx] = result.values.flatten()[0]"
   ]
  },
  {
   "cell_type": "code",
   "execution_count": 44,
   "metadata": {},
   "outputs": [
    {
     "data": {
      "text/plain": [
       "9922"
      ]
     },
     "execution_count": 44,
     "metadata": {},
     "output_type": "execute_result"
    }
   ],
   "source": [
    "len(rna_personalization)"
   ]
  },
  {
   "cell_type": "code",
   "execution_count": 45,
   "metadata": {},
   "outputs": [
    {
     "name": "stdout",
     "output_type": "stream",
     "text": [
      "../Outputs/Transcriptomics-Personalization.pkl was correctly saved.\n"
     ]
    }
   ],
   "source": [
    "src.io.export_variable_with_pickle(rna_personalization, '../Outputs/Transcriptomics-Personalization.pkl')"
   ]
  },
  {
   "cell_type": "code",
   "execution_count": null,
   "metadata": {},
   "outputs": [],
   "source": []
  }
 ],
 "metadata": {
  "kernelspec": {
   "display_name": "Python 3",
   "language": "python",
   "name": "python3"
  },
  "language_info": {
   "codemirror_mode": {
    "name": "ipython",
    "version": 3
   },
   "file_extension": ".py",
   "mimetype": "text/x-python",
   "name": "python",
   "nbconvert_exporter": "python",
   "pygments_lexer": "ipython3",
   "version": "3.7.6"
  }
 },
 "nbformat": 4,
 "nbformat_minor": 4
}
